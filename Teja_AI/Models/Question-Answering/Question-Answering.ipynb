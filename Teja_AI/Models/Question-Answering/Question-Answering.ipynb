{
 "cells": [
  {
   "cell_type": "code",
   "execution_count": 114,
   "id": "925de490",
   "metadata": {},
   "outputs": [],
   "source": [
    "import json\n",
    "\n",
    "# Create a Python dictionary with your data\n",
    "Train_data = [\n",
    "    {\n",
    "        \"context\" : \"Narendra Damodardas born 17 September 1950[b] is an Indian politician who has served as the 14th Prime Minister of India since May 2014. Modi was the Chief Minister of Gujarat from 2001 to 2014 and is the Member of Parliament (MP) for Varanasi. He is a member of the Bharatiya Janata Party (BJP) and of the Rashtriya Swayamsevak Sangh (RSS), a right-wing Hindu nationalist paramilitary volunteer organisation. He is the longest-serving prime minister from outside the Indian National Congress.\",\n",
    "        \"qas\": [\n",
    "            {\n",
    "                \"id\" : \"0001\",\n",
    "                \"is_impossible\" : False,\n",
    "                \"question\" : \"Who is the current Prime Minister of India?\",\n",
    "                \"answers\" : [\n",
    "                    {\n",
    "                        \"text\" : \"Narendra Damodardas\",\n",
    "                        \"answer_start\" : 1,\n",
    "                    }\n",
    "                ],\n",
    "            },\n",
    "            {\n",
    "                \"id\" : \"0002\",\n",
    "                \"is_impossible\" : False,\n",
    "                \"question\" : \"When did Narendra Modi was born on?\",\n",
    "                \"answers\" : [\n",
    "                    {\n",
    "                        \"text\" : \"17 September 1950\",\n",
    "                        \"answer_start\" : 25,\n",
    "                    }\n",
    "                ],\n",
    "            },\n",
    "            {\n",
    "                \"id\" : \"0003\",\n",
    "                \"is_impossible\" : False,\n",
    "                \"question\" : \"Which country does Narendra Damodardas belongs to?\",\n",
    "                \"answers\" : [\n",
    "                    {\n",
    "                        \"text\" : \"India\",\n",
    "                        \"answer_start\" : 52,\n",
    "                    }\n",
    "                ],\n",
    "            },\n",
    "            {\n",
    "                \"id\" : \"0004\",\n",
    "                \"is_impossible\" : False,\n",
    "                \"question\" : \"Who is the Mp of Varanasi\",\n",
    "                \"answers\" : [\n",
    "                    {\n",
    "                        \"text\" : \"Narendra Damodardas\",\n",
    "                        \"answer_start\" : 1,\n",
    "                    }\n",
    "                ],\n",
    "            },\n",
    "            {\n",
    "                \"id\" : \"0005\",\n",
    "                \"is_impossible\" : True,\n",
    "                \"question\" : \"Does Modi becomes PM in the upcoming Elections?\",\n",
    "                \"answers\" : [],\n",
    "            },\n",
    "        ],\n",
    "    },\n",
    "    {\n",
    "        \"context\": \"\\\"Mistings\\\" have only one of the many Allomantic powers, while \\\"Mistborns\\\" have all the powers.\",\n",
    "        \"qas\": [\n",
    "            {\n",
    "                \"id\": \"00002\",\n",
    "                \"is_impossible\": False,\n",
    "                \"question\": \"How many powers does a Misting possess?\",\n",
    "                \"answers\": [\n",
    "                    {\n",
    "                        \"text\": \"one\",\n",
    "                        \"answer_start\": 21,\n",
    "                    }\n",
    "                ],\n",
    "            },\n",
    "            {\n",
    "                \"id\": \"00003\",\n",
    "                \"is_impossible\": True,\n",
    "                \"question\": \"What are Allomantic powers?\",\n",
    "                \"answers\": [],\n",
    "            },\n",
    "        ],\n",
    "    },\n",
    "    {\n",
    "        \"context\": \"The series primarily takes place in a region called the Final Empire \"\n",
    "                   \"on a world called Scadrial, where the sun and sky are red, vegetation is brown, \"\n",
    "                   \"and the ground is constantly being covered under black volcanic ashfalls.\",\n",
    "        \"qas\": [\n",
    "            {\n",
    "                \"id\": \"00001\",\n",
    "                \"is_impossible\": False,\n",
    "                \"question\": \"Where does the series take place?\",\n",
    "                \"answers\": [\n",
    "                    {\n",
    "                        \"text\": \"region called the Final Empire\",\n",
    "                        \"answer_start\": 38,\n",
    "                    },\n",
    "                    {\n",
    "                        \"text\": \"world called Scadrial\",\n",
    "                        \"answer_start\": 74,\n",
    "                    },\n",
    "                ],\n",
    "            }\n",
    "        ],\n",
    "    },\n",
    "]\n",
    "\n",
    "\n",
    "# Specify the file path where you want to create the JSON file\n",
    "file_path = \"Train_QA.json\"\n",
    "\n",
    "# Write the JSON data to the file\n",
    "with open(file_path, \"w\") as json_file:\n",
    "    json.dump(Train_data, json_file, indent=4)  # The indent parameter makes the output more readable\n"
   ]
  },
  {
   "cell_type": "code",
   "execution_count": 115,
   "id": "27ba27be",
   "metadata": {},
   "outputs": [],
   "source": [
    "import json\n",
    "with open(r\"Train_QA.json\", \"r\") as read_file:\n",
    "    train = json.load(read_file)"
   ]
  },
  {
   "cell_type": "code",
   "execution_count": 116,
   "id": "1dec8b67",
   "metadata": {},
   "outputs": [
    {
     "data": {
      "text/plain": [
       "[{'context': 'Narendra Damodardas born 17 September 1950[b] is an Indian politician who has served as the 14th Prime Minister of India since May 2014. Modi was the Chief Minister of Gujarat from 2001 to 2014 and is the Member of Parliament (MP) for Varanasi. He is a member of the Bharatiya Janata Party (BJP) and of the Rashtriya Swayamsevak Sangh (RSS), a right-wing Hindu nationalist paramilitary volunteer organisation. He is the longest-serving prime minister from outside the Indian National Congress.',\n",
       "  'qas': [{'id': '0001',\n",
       "    'is_impossible': False,\n",
       "    'question': 'Who is the current Prime Minister of India?',\n",
       "    'answers': [{'text': 'Narendra Damodardas', 'answer_start': 1}]},\n",
       "   {'id': '0002',\n",
       "    'is_impossible': False,\n",
       "    'question': 'When did Narendra Modi was born on?',\n",
       "    'answers': [{'text': '17 September 1950', 'answer_start': 25}]},\n",
       "   {'id': '0003',\n",
       "    'is_impossible': False,\n",
       "    'question': 'Which country does Narendra Damodardas belongs to?',\n",
       "    'answers': [{'text': 'India', 'answer_start': 52}]},\n",
       "   {'id': '0004',\n",
       "    'is_impossible': False,\n",
       "    'question': 'Who is the Mp of Varanasi',\n",
       "    'answers': [{'text': 'Narendra Damodardas', 'answer_start': 1}]},\n",
       "   {'id': '0005',\n",
       "    'is_impossible': True,\n",
       "    'question': 'Does Modi becomes PM in the upcoming Elections?',\n",
       "    'answers': []}]},\n",
       " {'context': '\"Mistings\" have only one of the many Allomantic powers, while \"Mistborns\" have all the powers.',\n",
       "  'qas': [{'id': '00002',\n",
       "    'is_impossible': False,\n",
       "    'question': 'How many powers does a Misting possess?',\n",
       "    'answers': [{'text': 'one', 'answer_start': 21}]},\n",
       "   {'id': '00003',\n",
       "    'is_impossible': True,\n",
       "    'question': 'What are Allomantic powers?',\n",
       "    'answers': []}]},\n",
       " {'context': 'The series primarily takes place in a region called the Final Empire on a world called Scadrial, where the sun and sky are red, vegetation is brown, and the ground is constantly being covered under black volcanic ashfalls.',\n",
       "  'qas': [{'id': '00001',\n",
       "    'is_impossible': False,\n",
       "    'question': 'Where does the series take place?',\n",
       "    'answers': [{'text': 'region called the Final Empire', 'answer_start': 38},\n",
       "     {'text': 'world called Scadrial', 'answer_start': 74}]}]}]"
      ]
     },
     "execution_count": 116,
     "metadata": {},
     "output_type": "execute_result"
    }
   ],
   "source": [
    "train"
   ]
  },
  {
   "cell_type": "code",
   "execution_count": 117,
   "id": "297f7022",
   "metadata": {},
   "outputs": [],
   "source": [
    "import logging\n",
    "from simpletransformers.question_answering import QuestionAnsweringModel, QuestionAnsweringArgs"
   ]
  },
  {
   "cell_type": "code",
   "execution_count": 118,
   "id": "8d408d41",
   "metadata": {},
   "outputs": [
    {
     "name": "stderr",
     "output_type": "stream",
     "text": [
      "Some weights of BertForQuestionAnswering were not initialized from the model checkpoint at bert-base-cased and are newly initialized: ['qa_outputs.bias', 'qa_outputs.weight']\n",
      "You should probably TRAIN this model on a down-stream task to be able to use it for predictions and inference.\n"
     ]
    }
   ],
   "source": [
    "model = QuestionAnsweringModel(\n",
    "model_type, model_name,use_cuda=False)\n",
    "model.train_batch_size = 16\n",
    "model.num_train_epochs = 20"
   ]
  },
  {
   "cell_type": "code",
   "execution_count": 120,
   "id": "94651042",
   "metadata": {},
   "outputs": [
    {
     "name": "stderr",
     "output_type": "stream",
     "text": [
      "convert squad examples to features: 100%|███████████████████████████████████████████████| 8/8 [00:00<00:00, 145.21it/s]\n",
      "add example index and unique id: 100%|███████████████████████████████████████████████████████████| 8/8 [00:00<?, ?it/s]\n"
     ]
    },
    {
     "data": {
      "application/vnd.jupyter.widget-view+json": {
       "model_id": "eb6d064bf5374b4aa230784a187e21e0",
       "version_major": 2,
       "version_minor": 0
      },
      "text/plain": [
       "Epoch:   0%|          | 0/1 [00:00<?, ?it/s]"
      ]
     },
     "metadata": {},
     "output_type": "display_data"
    },
    {
     "data": {
      "application/vnd.jupyter.widget-view+json": {
       "model_id": "f3b1cd17e10947f29690a9a6eef596eb",
       "version_major": 2,
       "version_minor": 0
      },
      "text/plain": [
       "Running Epoch 0 of 1:   0%|          | 0/1 [00:00<?, ?it/s]"
      ]
     },
     "metadata": {},
     "output_type": "display_data"
    },
    {
     "data": {
      "text/plain": [
       "(1, 4.79420280456543)"
      ]
     },
     "execution_count": 120,
     "metadata": {},
     "output_type": "execute_result"
    }
   ],
   "source": [
    "model.train_model(train)"
   ]
  },
  {
   "cell_type": "code",
   "execution_count": 121,
   "id": "41077ebe",
   "metadata": {},
   "outputs": [],
   "source": [
    "to_predict = [\n",
    "    {\n",
    "        \"context\": \"\",\n",
    "        \"qas\": [\n",
    "            {\n",
    "                \"question\": \"\",\n",
    "                \"id\" : 0,\n",
    "            }\n",
    "        ],\n",
    "    }\n",
    "]"
   ]
  },
  {
   "cell_type": "code",
   "execution_count": 122,
   "id": "ea7ab54e",
   "metadata": {},
   "outputs": [],
   "source": [
    "# to_predict[0][\"context\"] = \"Hi Teja\"\n",
    "# print(to_predict[0][\"context\"])\n",
    "# print(to_predict[0][\"context\"])\n",
    "# print((to_predict[0][\"qas\"][0][\"question\"]))"
   ]
  },
  {
   "cell_type": "code",
   "execution_count": 123,
   "id": "79bb23e6",
   "metadata": {},
   "outputs": [],
   "source": [
    "def Predict(to_predict):\n",
    "    answers, probabilities = model.predict(to_predict)\n",
    "    return (answers[0]['answer'][1])"
   ]
  },
  {
   "cell_type": "code",
   "execution_count": 124,
   "id": "ab3d007d",
   "metadata": {},
   "outputs": [],
   "source": [
    "def Data(context, question):\n",
    "    to_predict[0][\"context\"] = str(context)\n",
    "    to_predict[0][\"qas\"][0][\"question\"] = str(question)\n",
    "    result = Predict(to_predict)\n",
    "    return result\n",
    "    "
   ]
  },
  {
   "cell_type": "code",
   "execution_count": 125,
   "id": "2a87f2d6",
   "metadata": {},
   "outputs": [
    {
     "name": "stdout",
     "output_type": "stream",
     "text": [
      "Running on local URL:  http://127.0.0.1:7872\n",
      "\n",
      "To create a public link, set `share=True` in `launch()`.\n"
     ]
    },
    {
     "data": {
      "text/html": [
       "<div><iframe src=\"http://127.0.0.1:7872/\" width=\"100%\" height=\"500\" allow=\"autoplay; camera; microphone; clipboard-read; clipboard-write;\" frameborder=\"0\" allowfullscreen></iframe></div>"
      ],
      "text/plain": [
       "<IPython.core.display.HTML object>"
      ]
     },
     "metadata": {},
     "output_type": "display_data"
    },
    {
     "data": {
      "text/plain": []
     },
     "execution_count": 125,
     "metadata": {},
     "output_type": "execute_result"
    },
    {
     "name": "stderr",
     "output_type": "stream",
     "text": [
      "convert squad examples to features: 100%|███████████████████████████████████████████████| 1/1 [00:00<00:00, 292.22it/s]\n",
      "add example index and unique id: 100%|███████████████████████████████████████████████████████████| 1/1 [00:00<?, ?it/s]\n"
     ]
    },
    {
     "data": {
      "application/vnd.jupyter.widget-view+json": {
       "model_id": "b18b1f1a83034f52bedde5388844b741",
       "version_major": 2,
       "version_minor": 0
      },
      "text/plain": [
       "Running Prediction:   0%|          | 0/1 [00:00<?, ?it/s]"
      ]
     },
     "metadata": {},
     "output_type": "display_data"
    }
   ],
   "source": [
    "import gradio as gr\n",
    "interface = gr.Interface(fn = Data, inputs = ['text','text'],outputs = 'text',title = 'Json Input')\n",
    "interface.launch()"
   ]
  },
  {
   "cell_type": "code",
   "execution_count": null,
   "id": "ff419c31",
   "metadata": {},
   "outputs": [],
   "source": []
  }
 ],
 "metadata": {
  "kernelspec": {
   "display_name": "Python 3 (ipykernel)",
   "language": "python",
   "name": "python3"
  },
  "language_info": {
   "codemirror_mode": {
    "name": "ipython",
    "version": 3
   },
   "file_extension": ".py",
   "mimetype": "text/x-python",
   "name": "python",
   "nbconvert_exporter": "python",
   "pygments_lexer": "ipython3",
   "version": "3.11.3"
  }
 },
 "nbformat": 4,
 "nbformat_minor": 5
}
